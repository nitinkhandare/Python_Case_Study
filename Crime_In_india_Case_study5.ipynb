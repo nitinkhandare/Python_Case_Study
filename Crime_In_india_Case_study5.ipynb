{
 "cells": [
  {
   "cell_type": "markdown",
   "metadata": {},
   "source": [
    "# Crime in India"
   ]
  },
  {
   "cell_type": "markdown",
   "metadata": {},
   "source": [
    "# This dataset contains complete information about various aspects of crimes happened in India from 2001. Most of the data is from 2001 to 2010. But there are few files which has data only from 2011 and few are having 2001-14.\n",
    "# OBJECTIVE: - The objective this exercise is to understand how you approach a problem statement and visualize it by solving in Python\n"
   ]
  },
  {
   "cell_type": "code",
   "execution_count": 77,
   "metadata": {},
   "outputs": [],
   "source": [
    "import numpy as np\n",
    "import pandas as pd\n",
    "import math\n",
    "import matplotlib"
   ]
  },
  {
   "cell_type": "code",
   "execution_count": 78,
   "metadata": {},
   "outputs": [],
   "source": [
    "cpolice = pd.read_csv(\"Crime-in-india/25_Complaints_against_police.csv\")\n",
    "\n",
    "vpolice = pd.read_csv(\"crime-in-india/35_Human_rights_violation_by_police.csv\")\n",
    "\n",
    "\n",
    "\n",
    "\n"
   ]
  },
  {
   "cell_type": "code",
   "execution_count": 20,
   "metadata": {},
   "outputs": [
    {
     "data": {
      "text/plain": [
       "pandas.core.frame.DataFrame"
      ]
     },
     "execution_count": 20,
     "metadata": {},
     "output_type": "execute_result"
    }
   ],
   "source": [
    "c1 = cpolice.iloc[:,[0,1,3]]\n",
    "type(c1)\n",
    "c2 = vpolice.iloc[:,[0,1,4]]\n",
    "type(c2)"
   ]
  },
  {
   "cell_type": "code",
   "execution_count": 79,
   "metadata": {},
   "outputs": [],
   "source": [
    "c1.rename(columns={'Area_Name':'State'},inplace=True)\n",
    "c2.rename(columns={'Area_Name':'State'},inplace=True)\n",
    "c1.rename(columns={'CPA_-_Cases_Registered':'Registered'},inplace=True)\n",
    "c2.rename(columns={'Cases_Registered_under_Human_Rights_Violations':'Registered'},inplace=True)"
   ]
  },
  {
   "cell_type": "code",
   "execution_count": 80,
   "metadata": {},
   "outputs": [
    {
     "data": {
      "text/plain": [
       "(2617, 3)"
      ]
     },
     "execution_count": 80,
     "metadata": {},
     "output_type": "execute_result"
    }
   ],
   "source": [
    "final = c1.append(c2)\n",
    "final.shape"
   ]
  },
  {
   "cell_type": "code",
   "execution_count": null,
   "metadata": {},
   "outputs": [],
   "source": []
  },
  {
   "cell_type": "markdown",
   "metadata": {},
   "source": [
    "# What is the major reason people being kidnapped in each state."
   ]
  },
  {
   "cell_type": "code",
   "execution_count": null,
   "metadata": {},
   "outputs": [],
   "source": []
  },
  {
   "cell_type": "code",
   "execution_count": null,
   "metadata": {},
   "outputs": [],
   "source": []
  },
  {
   "cell_type": "markdown",
   "metadata": {},
   "source": [
    "# Offenders relation with rape victim"
   ]
  },
  {
   "cell_type": "code",
   "execution_count": 81,
   "metadata": {},
   "outputs": [
    {
     "data": {
      "text/html": [
       "<div>\n",
       "<style scoped>\n",
       "    .dataframe tbody tr th:only-of-type {\n",
       "        vertical-align: middle;\n",
       "    }\n",
       "\n",
       "    .dataframe tbody tr th {\n",
       "        vertical-align: top;\n",
       "    }\n",
       "\n",
       "    .dataframe thead th {\n",
       "        text-align: right;\n",
       "    }\n",
       "</style>\n",
       "<table border=\"1\" class=\"dataframe\">\n",
       "  <thead>\n",
       "    <tr style=\"text-align: right;\">\n",
       "      <th></th>\n",
       "      <th>Area_Name</th>\n",
       "      <th>offenders_were_known_to_the_Victims</th>\n",
       "      <th>offenders_were_Neighbours</th>\n",
       "      <th>offenders_were_Other_Known_persons</th>\n",
       "      <th>Parentsclose_family_members</th>\n",
       "      <th>offenders_were_Relatives</th>\n",
       "    </tr>\n",
       "  </thead>\n",
       "  <tbody>\n",
       "    <tr>\n",
       "      <th>0</th>\n",
       "      <td>Madhya Pradesh</td>\n",
       "      <td>3010</td>\n",
       "      <td>1397</td>\n",
       "      <td>1384</td>\n",
       "      <td>49</td>\n",
       "      <td>180</td>\n",
       "    </tr>\n",
       "    <tr>\n",
       "      <th>1</th>\n",
       "      <td>Madhya Pradesh</td>\n",
       "      <td>2937</td>\n",
       "      <td>1279</td>\n",
       "      <td>1433</td>\n",
       "      <td>52</td>\n",
       "      <td>173</td>\n",
       "    </tr>\n",
       "    <tr>\n",
       "      <th>2</th>\n",
       "      <td>Madhya Pradesh</td>\n",
       "      <td>2998</td>\n",
       "      <td>1254</td>\n",
       "      <td>1528</td>\n",
       "      <td>14</td>\n",
       "      <td>202</td>\n",
       "    </tr>\n",
       "    <tr>\n",
       "      <th>3</th>\n",
       "      <td>Madhya Pradesh</td>\n",
       "      <td>3135</td>\n",
       "      <td>1223</td>\n",
       "      <td>1659</td>\n",
       "      <td>21</td>\n",
       "      <td>232</td>\n",
       "    </tr>\n",
       "    <tr>\n",
       "      <th>4</th>\n",
       "      <td>West Bengal</td>\n",
       "      <td>2134</td>\n",
       "      <td>1037</td>\n",
       "      <td>987</td>\n",
       "      <td>4</td>\n",
       "      <td>106</td>\n",
       "    </tr>\n",
       "  </tbody>\n",
       "</table>\n",
       "</div>"
      ],
      "text/plain": [
       "        Area_Name  offenders_were_known_to_the_Victims  \\\n",
       "0  Madhya Pradesh                                 3010   \n",
       "1  Madhya Pradesh                                 2937   \n",
       "2  Madhya Pradesh                                 2998   \n",
       "3  Madhya Pradesh                                 3135   \n",
       "4     West Bengal                                 2134   \n",
       "\n",
       "   offenders_were_Neighbours  offenders_were_Other_Known_persons  \\\n",
       "0                       1397                                1384   \n",
       "1                       1279                                1433   \n",
       "2                       1254                                1528   \n",
       "3                       1223                                1659   \n",
       "4                       1037                                 987   \n",
       "\n",
       "   Parentsclose_family_members  offenders_were_Relatives  \n",
       "0                           49                       180  \n",
       "1                           52                       173  \n",
       "2                           14                       202  \n",
       "3                           21                       232  \n",
       "4                            4                       106  "
      ]
     },
     "execution_count": 81,
     "metadata": {},
     "output_type": "execute_result"
    }
   ],
   "source": [
    "offender = pd.read_csv('Crime-in-india/21_Offenders_known_to_the_victim.csv')\n",
    "\n",
    "offender.head()\n",
    "\n",
    "offender.rename(columns={'Area_Name':'Area_Name','No_of_Cases_in_which_offenders_were_known_to_the_Victims':'offenders_were_known_to_the_Victims','No_of_Cases_in_which_offenders_were_Neighbours':'offenders_were_Neighbours','No_of_Cases_in_which_offenders_were_Other_Known_persons':'offenders_were_Other_Known_persons','No_of_Cases_in_which_offenders_were_Parentsclose_family_members':'Parentsclose_family_members','No_of_Cases_in_which_offenders_were_Relatives':'offenders_were_Relatives'},inplace=True)\n",
    "offender=offender[['Area_Name','offenders_were_known_to_the_Victims','offenders_were_Neighbours','offenders_were_Other_Known_persons','Parentsclose_family_members','offenders_were_Relatives']]\n",
    "offender.head()"
   ]
  },
  {
   "cell_type": "code",
   "execution_count": null,
   "metadata": {},
   "outputs": [],
   "source": []
  },
  {
   "cell_type": "code",
   "execution_count": null,
   "metadata": {},
   "outputs": [],
   "source": []
  },
  {
   "cell_type": "code",
   "execution_count": null,
   "metadata": {},
   "outputs": [],
   "source": []
  },
  {
   "cell_type": "code",
   "execution_count": null,
   "metadata": {},
   "outputs": [],
   "source": []
  },
  {
   "cell_type": "markdown",
   "metadata": {},
   "source": [
    "# Juveniles family background, education and economical setup."
   ]
  },
  {
   "cell_type": "code",
   "execution_count": null,
   "metadata": {},
   "outputs": [],
   "source": []
  },
  {
   "cell_type": "code",
   "execution_count": null,
   "metadata": {},
   "outputs": [],
   "source": []
  },
  {
   "cell_type": "markdown",
   "metadata": {},
   "source": [
    "# Which state have more crime for child and women"
   ]
  },
  {
   "cell_type": "code",
   "execution_count": null,
   "metadata": {},
   "outputs": [],
   "source": []
  },
  {
   "cell_type": "markdown",
   "metadata": {},
   "source": [
    "# Murders age group wise."
   ]
  },
  {
   "cell_type": "code",
   "execution_count": null,
   "metadata": {},
   "outputs": [],
   "source": []
  },
  {
   "cell_type": "markdown",
   "metadata": {},
   "source": [
    "# Which state has more number of complaints against police?"
   ]
  },
  {
   "cell_type": "code",
   "execution_count": 32,
   "metadata": {},
   "outputs": [
    {
     "data": {
      "text/plain": [
       "<matplotlib.axes._subplots.AxesSubplot at 0x2acde616320>"
      ]
     },
     "execution_count": 32,
     "metadata": {},
     "output_type": "execute_result"
    },
    {
     "data": {
      "image/png": "[encoded data removed]",
      "text/plain": [
       "<matplotlib.figure.Figure at 0x2acdc5b25c0>"
      ]
     },
     "metadata": {},
     "output_type": "display_data"
    }
   ],
   "source": [
    "final.groupby('State').sum()['Registered'].sort_values(ascending = False).head(8).plot.bar()"
   ]
  },
  {
   "cell_type": "code",
   "execution_count": null,
   "metadata": {},
   "outputs": [],
   "source": []
  },
  {
   "cell_type": "markdown",
   "metadata": {},
   "source": [
    "# Safest state for foreigners"
   ]
  },
  {
   "cell_type": "code",
   "execution_count": null,
   "metadata": {},
   "outputs": [],
   "source": []
  }
 ],
 "metadata": {
  "kernelspec": {
   "display_name": "Python 3",
   "language": "python",
   "name": "python3"
  },
  "language_info": {
   "codemirror_mode": {
    "name": "ipython",
    "version": 3
   },
   "file_extension": ".py",
   "mimetype": "text/x-python",
   "name": "python",
   "nbconvert_exporter": "python",
   "pygments_lexer": "ipython3",
   "version": "3.6.4"
  }
 },
 "nbformat": 4,
 "nbformat_minor": 2
}
