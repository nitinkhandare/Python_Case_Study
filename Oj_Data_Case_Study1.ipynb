{
 "cells": [
  {
   "cell_type": "code",
   "execution_count": 1,
   "metadata": {},
   "outputs": [],
   "source": [
    "import pandas as pd\n",
    "import numpy as np\n"
   ]
  },
  {
   "cell_type": "code",
   "execution_count": 2,
   "metadata": {},
   "outputs": [],
   "source": [
    "oj_data = pd.read_csv(\"oj.csv\")\n"
   ]
  },
  {
   "cell_type": "markdown",
   "metadata": {},
   "source": [
    "# Find the dimensions of the oj data set"
   ]
  },
  {
   "cell_type": "code",
   "execution_count": 3,
   "metadata": {},
   "outputs": [
    {
     "name": "stdout",
     "output_type": "stream",
     "text": [
      "(28947, 17)\n"
     ]
    }
   ],
   "source": [
    "print(oj_data.shape)"
   ]
  },
  {
   "cell_type": "markdown",
   "metadata": {},
   "source": [
    "# Find the structure of the data set"
   ]
  },
  {
   "cell_type": "code",
   "execution_count": 4,
   "metadata": {},
   "outputs": [
    {
     "name": "stdout",
     "output_type": "stream",
     "text": [
      "<class 'pandas.core.frame.DataFrame'>\n",
      "RangeIndex: 28947 entries, 0 to 28946\n",
      "Data columns (total 17 columns):\n",
      "store       28947 non-null int64\n",
      "brand       28947 non-null object\n",
      "week        28947 non-null int64\n",
      "logmove     28947 non-null float64\n",
      "feat        28947 non-null int64\n",
      "price       28947 non-null float64\n",
      "AGE60       28947 non-null float64\n",
      "EDUC        28947 non-null float64\n",
      "ETHNIC      28947 non-null float64\n",
      "INCOME      28947 non-null float64\n",
      "HHLARGE     28947 non-null float64\n",
      "WORKWOM     28947 non-null float64\n",
      "HVAL150     28947 non-null float64\n",
      "SSTRDIST    28947 non-null float64\n",
      "SSTRVOL     28947 non-null float64\n",
      "CPDIST5     28947 non-null float64\n",
      "CPWVOL5     28947 non-null float64\n",
      "dtypes: float64(13), int64(3), object(1)\n",
      "memory usage: 3.8+ MB\n",
      "None\n"
     ]
    }
   ],
   "source": [
    "\n",
    "print(oj_data.info())"
   ]
  },
  {
   "cell_type": "markdown",
   "metadata": {},
   "source": [
    "# Find out the column names in the data set"
   ]
  },
  {
   "cell_type": "code",
   "execution_count": 5,
   "metadata": {},
   "outputs": [
    {
     "name": "stdout",
     "output_type": "stream",
     "text": [
      "['store' 'brand' 'week' 'logmove' 'feat' 'price' 'AGE60' 'EDUC' 'ETHNIC'\n",
      " 'INCOME' 'HHLARGE' 'WORKWOM' 'HVAL150' 'SSTRDIST' 'SSTRVOL' 'CPDIST5'\n",
      " 'CPWVOL5']\n"
     ]
    }
   ],
   "source": [
    "names = oj_data.columns.values\n",
    "print(names)"
   ]
  },
  {
   "cell_type": "markdown",
   "metadata": {},
   "source": [
    "# Describe the data set"
   ]
  },
  {
   "cell_type": "code",
   "execution_count": 6,
   "metadata": {},
   "outputs": [
    {
     "name": "stdout",
     "output_type": "stream",
     "text": [
      "              store          week       logmove          feat         price  \\\n",
      "count  28947.000000  28947.000000  28947.000000  28947.000000  28947.000000   \n",
      "mean      80.883511    100.459944      9.167864      0.237261      2.282488   \n",
      "std       35.576511     34.692314      1.019378      0.425411      0.648001   \n",
      "min        2.000000     40.000000      4.158883      0.000000      0.520000   \n",
      "25%       53.000000     70.000000      8.489616      0.000000      1.790000   \n",
      "50%       86.000000    101.000000      9.034080      0.000000      2.170000   \n",
      "75%      111.000000    130.000000      9.764685      0.000000      2.730000   \n",
      "max      137.000000    160.000000     13.482016      1.000000      3.870000   \n",
      "\n",
      "              AGE60          EDUC        ETHNIC        INCOME       HHLARGE  \\\n",
      "count  28947.000000  28947.000000  28947.000000  28947.000000  28947.000000   \n",
      "mean       0.173130      0.225220      0.155557     10.616735      0.115602   \n",
      "std        0.061872      0.109945      0.187581      0.282314      0.030168   \n",
      "min        0.058054      0.049550      0.024247      9.867083      0.013506   \n",
      "25%        0.122100      0.145985      0.041910     10.456079      0.097938   \n",
      "50%        0.170655      0.229390      0.074656     10.635326      0.111221   \n",
      "75%        0.213949      0.284395      0.187761     10.796960      0.135168   \n",
      "max        0.307398      0.528362      0.995691     11.236197      0.216354   \n",
      "\n",
      "            WORKWOM       HVAL150      SSTRDIST       SSTRVOL       CPDIST5  \\\n",
      "count  28947.000000  28947.000000  28947.000000  28947.000000  28947.000000   \n",
      "mean       0.359178      0.343766      5.097274      1.207317      2.120359   \n",
      "std        0.052673      0.239028      3.472386      0.526528      0.729828   \n",
      "min        0.244463      0.002509      0.132097      0.400000      0.772530   \n",
      "25%        0.312636      0.123486      2.767046      0.727273      1.626192   \n",
      "50%        0.355635      0.346154      4.650687      1.115385      1.963412   \n",
      "75%        0.402313      0.528313      6.650602      1.538462      2.533672   \n",
      "max        0.472308      0.916699     17.855951      2.571429      4.107902   \n",
      "\n",
      "            CPWVOL5  \n",
      "count  28947.000000  \n",
      "mean       0.438914  \n",
      "std        0.219248  \n",
      "min        0.094562  \n",
      "25%        0.271673  \n",
      "50%        0.383227  \n",
      "75%        0.560240  \n",
      "max        1.143367  \n"
     ]
    }
   ],
   "source": [
    "print(oj_data.describe())"
   ]
  },
  {
   "cell_type": "markdown",
   "metadata": {},
   "source": [
    "# Fetch the first row 3rd column from the data set"
   ]
  },
  {
   "cell_type": "code",
   "execution_count": 7,
   "metadata": {},
   "outputs": [
    {
     "name": "stdout",
     "output_type": "stream",
     "text": [
      "logmove    8.72323\n",
      "Name: 1, dtype: object\n"
     ]
    }
   ],
   "source": [
    "print(oj_data.iloc[1,[3]])"
   ]
  },
  {
   "cell_type": "markdown",
   "metadata": {},
   "source": [
    "# Fetch the first, second and Third columns of the oj data frame"
   ]
  },
  {
   "cell_type": "code",
   "execution_count": 8,
   "metadata": {},
   "outputs": [
    {
     "name": "stdout",
     "output_type": "stream",
     "text": [
      "        brand  week   logmove\n",
      "0   tropicana    40  9.018695\n",
      "1   tropicana    46  8.723231\n",
      "2   tropicana    47  8.253228\n",
      "3   tropicana    48  8.987197\n",
      "4   tropicana    50  9.093357\n",
      "5   tropicana    51  8.877382\n",
      "6   tropicana    52  9.294682\n",
      "7   tropicana    53  8.954674\n",
      "8   tropicana    54  9.049232\n",
      "9   tropicana    57  8.613230\n",
      "10  tropicana    58  8.680672\n",
      "11  tropicana    59  9.034080\n",
      "12  tropicana    60  8.691483\n",
      "13  tropicana    61  8.831712\n",
      "14  tropicana    62  9.128696\n",
      "15  tropicana    63  9.405907\n",
      "16  tropicana    64  9.447150\n",
      "17  tropicana    65  8.783856\n",
      "18  tropicana    66  8.723231\n",
      "19  tropicana    67  9.957976\n"
     ]
    }
   ],
   "source": [
    "oj = oj_data.iloc[:,[1,2,3]]\n",
    "print(oj.head(20))"
   ]
  },
  {
   "cell_type": "markdown",
   "metadata": {},
   "source": [
    "# Fetch the first, second, eighth and the 456th rows of the 1st, third and the sixth columns of the data frame"
   ]
  },
  {
   "cell_type": "code",
   "execution_count": 9,
   "metadata": {},
   "outputs": [
    {
     "name": "stdout",
     "output_type": "stream",
     "text": [
      "           brand   logmove     AGE60\n",
      "1      tropicana  8.723231  0.232865\n",
      "2      tropicana  8.253228  0.232865\n",
      "8      tropicana  9.049232  0.232865\n",
      "456  minute.maid  8.392990  0.117368\n"
     ]
    }
   ],
   "source": [
    "print(oj_data.iloc[[1,2,8,456],[1,3,6]])"
   ]
  },
  {
   "cell_type": "markdown",
   "metadata": {},
   "source": [
    "# Fetch the top 5 rows of the brand column"
   ]
  },
  {
   "cell_type": "code",
   "execution_count": 10,
   "metadata": {},
   "outputs": [
    {
     "name": "stdout",
     "output_type": "stream",
     "text": [
      "       brand\n",
      "0  tropicana\n",
      "1  tropicana\n",
      "2  tropicana\n",
      "3  tropicana\n",
      "4  tropicana\n"
     ]
    }
   ],
   "source": [
    "print(oj_data[:5][[\"brand\"]])\n"
   ]
  },
  {
   "cell_type": "markdown",
   "metadata": {},
   "source": [
    "# Fetch top 5 rows of the brand, week and feat details"
   ]
  },
  {
   "cell_type": "code",
   "execution_count": 11,
   "metadata": {},
   "outputs": [
    {
     "name": "stdout",
     "output_type": "stream",
     "text": [
      "       brand  week  feat\n",
      "0  tropicana    40     0\n",
      "1  tropicana    46     0\n",
      "2  tropicana    47     0\n",
      "3  tropicana    48     0\n",
      "4  tropicana    50     0\n"
     ]
    }
   ],
   "source": [
    "print(oj_data.iloc[:5][[\"brand\",\"week\",\"feat\"]])"
   ]
  },
  {
   "cell_type": "markdown",
   "metadata": {},
   "source": [
    "# Fetch the details of all distinct stores"
   ]
  },
  {
   "cell_type": "code",
   "execution_count": 13,
   "metadata": {},
   "outputs": [
    {
     "name": "stdout",
     "output_type": "stream",
     "text": [
      "      store      brand  week   logmove  feat  price     AGE60      EDUC  \\\n",
      "0         2  tropicana    40  9.018695     0   3.87  0.232865  0.248935   \n",
      "330       5  tropicana    40  8.680672     0   3.66  0.117368  0.321226   \n",
      "678       8  tropicana    40  9.093357     0   3.19  0.252394  0.095173   \n",
      "1032      9  tropicana    40  8.987197     0   3.19  0.269119  0.222172   \n",
      "1383     12  tropicana    41  8.822322     0   3.87  0.178341  0.253413   \n",
      "\n",
      "        ETHNIC     INCOME   HHLARGE   WORKWOM   HVAL150  SSTRDIST   SSTRVOL  \\\n",
      "0     0.114280  10.553205  0.103953  0.303585  0.463887  2.110122  1.142857   \n",
      "330   0.053875  10.922371  0.103092  0.410568  0.535883  3.801998  0.681818   \n",
      "678   0.035243  10.597010  0.131750  0.283075  0.054227  2.636333  1.500000   \n",
      "1032  0.032619  10.787152  0.096830  0.358995  0.505747  1.103279  0.666667   \n",
      "1383  0.380698   9.996659  0.057212  0.390942  0.386628  9.198734  1.111111   \n",
      "\n",
      "       CPDIST5   CPWVOL5  \n",
      "0     1.927280  0.376927  \n",
      "330   1.600573  0.736307  \n",
      "678   2.905384  0.641016  \n",
      "1032  1.820474  0.441268  \n",
      "1383  0.839303  0.105999  \n"
     ]
    }
   ],
   "source": [
    "oj_dist = oj_data.drop_duplicates('store')\n",
    "print(oj_dist.head())"
   ]
  },
  {
   "cell_type": "code",
   "execution_count": 15,
   "metadata": {},
   "outputs": [
    {
     "data": {
      "text/plain": [
       "0    tropicana\n",
       "1    tropicana\n",
       "2    tropicana\n",
       "3    tropicana\n",
       "4    tropicana\n",
       "Name: brand, dtype: object"
      ]
     },
     "execution_count": 15,
     "metadata": {},
     "output_type": "execute_result"
    }
   ],
   "source": [
    "oj_data.brand.head()"
   ]
  },
  {
   "cell_type": "markdown",
   "metadata": {},
   "source": [
    "# Fetch all the observations for Tropicana brand"
   ]
  },
  {
   "cell_type": "code",
   "execution_count": 17,
   "metadata": {},
   "outputs": [
    {
     "name": "stdout",
     "output_type": "stream",
     "text": [
      "   store      brand  week   logmove  feat  price     AGE60      EDUC   ETHNIC  \\\n",
      "0      2  tropicana    40  9.018695     0   3.87  0.232865  0.248935  0.11428   \n",
      "1      2  tropicana    46  8.723231     0   3.87  0.232865  0.248935  0.11428   \n",
      "2      2  tropicana    47  8.253228     0   3.87  0.232865  0.248935  0.11428   \n",
      "3      2  tropicana    48  8.987197     0   3.87  0.232865  0.248935  0.11428   \n",
      "4      2  tropicana    50  9.093357     0   3.87  0.232865  0.248935  0.11428   \n",
      "\n",
      "      INCOME   HHLARGE   WORKWOM   HVAL150  SSTRDIST   SSTRVOL  CPDIST5  \\\n",
      "0  10.553205  0.103953  0.303585  0.463887  2.110122  1.142857  1.92728   \n",
      "1  10.553205  0.103953  0.303585  0.463887  2.110122  1.142857  1.92728   \n",
      "2  10.553205  0.103953  0.303585  0.463887  2.110122  1.142857  1.92728   \n",
      "3  10.553205  0.103953  0.303585  0.463887  2.110122  1.142857  1.92728   \n",
      "4  10.553205  0.103953  0.303585  0.463887  2.110122  1.142857  1.92728   \n",
      "\n",
      "    CPWVOL5  \n",
      "0  0.376927  \n",
      "1  0.376927  \n",
      "2  0.376927  \n",
      "3  0.376927  \n",
      "4  0.376927  \n"
     ]
    }
   ],
   "source": [
    "\n",
    "print(oj_data[(oj_data.brand == \"tropicana\")].head())\n"
   ]
  },
  {
   "cell_type": "markdown",
   "metadata": {},
   "source": [
    "# Fetch all the observations for Tropicana brand using query function"
   ]
  },
  {
   "cell_type": "code",
   "execution_count": 18,
   "metadata": {},
   "outputs": [
    {
     "data": {
      "text/html": [
       "<div>\n",
       "<style scoped>\n",
       "    .dataframe tbody tr th:only-of-type {\n",
       "        vertical-align: middle;\n",
       "    }\n",
       "\n",
       "    .dataframe tbody tr th {\n",
       "        vertical-align: top;\n",
       "    }\n",
       "\n",
       "    .dataframe thead th {\n",
       "        text-align: right;\n",
       "    }\n",
       "</style>\n",
       "<table border=\"1\" class=\"dataframe\">\n",
       "  <thead>\n",
       "    <tr style=\"text-align: right;\">\n",
       "      <th></th>\n",
       "      <th>store</th>\n",
       "      <th>brand</th>\n",
       "      <th>week</th>\n",
       "      <th>logmove</th>\n",
       "      <th>feat</th>\n",
       "      <th>price</th>\n",
       "      <th>AGE60</th>\n",
       "      <th>EDUC</th>\n",
       "      <th>ETHNIC</th>\n",
       "      <th>INCOME</th>\n",
       "      <th>HHLARGE</th>\n",
       "      <th>WORKWOM</th>\n",
       "      <th>HVAL150</th>\n",
       "      <th>SSTRDIST</th>\n",
       "      <th>SSTRVOL</th>\n",
       "      <th>CPDIST5</th>\n",
       "      <th>CPWVOL5</th>\n",
       "    </tr>\n",
       "  </thead>\n",
       "  <tbody>\n",
       "    <tr>\n",
       "      <th>0</th>\n",
       "      <td>2</td>\n",
       "      <td>tropicana</td>\n",
       "      <td>40</td>\n",
       "      <td>9.018695</td>\n",
       "      <td>0</td>\n",
       "      <td>3.87</td>\n",
       "      <td>0.232865</td>\n",
       "      <td>0.248935</td>\n",
       "      <td>0.11428</td>\n",
       "      <td>10.553205</td>\n",
       "      <td>0.103953</td>\n",
       "      <td>0.303585</td>\n",
       "      <td>0.463887</td>\n",
       "      <td>2.110122</td>\n",
       "      <td>1.142857</td>\n",
       "      <td>1.92728</td>\n",
       "      <td>0.376927</td>\n",
       "    </tr>\n",
       "    <tr>\n",
       "      <th>1</th>\n",
       "      <td>2</td>\n",
       "      <td>tropicana</td>\n",
       "      <td>46</td>\n",
       "      <td>8.723231</td>\n",
       "      <td>0</td>\n",
       "      <td>3.87</td>\n",
       "      <td>0.232865</td>\n",
       "      <td>0.248935</td>\n",
       "      <td>0.11428</td>\n",
       "      <td>10.553205</td>\n",
       "      <td>0.103953</td>\n",
       "      <td>0.303585</td>\n",
       "      <td>0.463887</td>\n",
       "      <td>2.110122</td>\n",
       "      <td>1.142857</td>\n",
       "      <td>1.92728</td>\n",
       "      <td>0.376927</td>\n",
       "    </tr>\n",
       "    <tr>\n",
       "      <th>2</th>\n",
       "      <td>2</td>\n",
       "      <td>tropicana</td>\n",
       "      <td>47</td>\n",
       "      <td>8.253228</td>\n",
       "      <td>0</td>\n",
       "      <td>3.87</td>\n",
       "      <td>0.232865</td>\n",
       "      <td>0.248935</td>\n",
       "      <td>0.11428</td>\n",
       "      <td>10.553205</td>\n",
       "      <td>0.103953</td>\n",
       "      <td>0.303585</td>\n",
       "      <td>0.463887</td>\n",
       "      <td>2.110122</td>\n",
       "      <td>1.142857</td>\n",
       "      <td>1.92728</td>\n",
       "      <td>0.376927</td>\n",
       "    </tr>\n",
       "    <tr>\n",
       "      <th>3</th>\n",
       "      <td>2</td>\n",
       "      <td>tropicana</td>\n",
       "      <td>48</td>\n",
       "      <td>8.987197</td>\n",
       "      <td>0</td>\n",
       "      <td>3.87</td>\n",
       "      <td>0.232865</td>\n",
       "      <td>0.248935</td>\n",
       "      <td>0.11428</td>\n",
       "      <td>10.553205</td>\n",
       "      <td>0.103953</td>\n",
       "      <td>0.303585</td>\n",
       "      <td>0.463887</td>\n",
       "      <td>2.110122</td>\n",
       "      <td>1.142857</td>\n",
       "      <td>1.92728</td>\n",
       "      <td>0.376927</td>\n",
       "    </tr>\n",
       "    <tr>\n",
       "      <th>4</th>\n",
       "      <td>2</td>\n",
       "      <td>tropicana</td>\n",
       "      <td>50</td>\n",
       "      <td>9.093357</td>\n",
       "      <td>0</td>\n",
       "      <td>3.87</td>\n",
       "      <td>0.232865</td>\n",
       "      <td>0.248935</td>\n",
       "      <td>0.11428</td>\n",
       "      <td>10.553205</td>\n",
       "      <td>0.103953</td>\n",
       "      <td>0.303585</td>\n",
       "      <td>0.463887</td>\n",
       "      <td>2.110122</td>\n",
       "      <td>1.142857</td>\n",
       "      <td>1.92728</td>\n",
       "      <td>0.376927</td>\n",
       "    </tr>\n",
       "  </tbody>\n",
       "</table>\n",
       "</div>"
      ],
      "text/plain": [
       "   store      brand  week   logmove  feat  price     AGE60      EDUC   ETHNIC  \\\n",
       "0      2  tropicana    40  9.018695     0   3.87  0.232865  0.248935  0.11428   \n",
       "1      2  tropicana    46  8.723231     0   3.87  0.232865  0.248935  0.11428   \n",
       "2      2  tropicana    47  8.253228     0   3.87  0.232865  0.248935  0.11428   \n",
       "3      2  tropicana    48  8.987197     0   3.87  0.232865  0.248935  0.11428   \n",
       "4      2  tropicana    50  9.093357     0   3.87  0.232865  0.248935  0.11428   \n",
       "\n",
       "      INCOME   HHLARGE   WORKWOM   HVAL150  SSTRDIST   SSTRVOL  CPDIST5  \\\n",
       "0  10.553205  0.103953  0.303585  0.463887  2.110122  1.142857  1.92728   \n",
       "1  10.553205  0.103953  0.303585  0.463887  2.110122  1.142857  1.92728   \n",
       "2  10.553205  0.103953  0.303585  0.463887  2.110122  1.142857  1.92728   \n",
       "3  10.553205  0.103953  0.303585  0.463887  2.110122  1.142857  1.92728   \n",
       "4  10.553205  0.103953  0.303585  0.463887  2.110122  1.142857  1.92728   \n",
       "\n",
       "    CPWVOL5  \n",
       "0  0.376927  \n",
       "1  0.376927  \n",
       "2  0.376927  \n",
       "3  0.376927  \n",
       "4  0.376927  "
      ]
     },
     "execution_count": 18,
     "metadata": {},
     "output_type": "execute_result"
    }
   ],
   "source": [
    "oj_data.query('brand == \"tropicana\"').head()"
   ]
  },
  {
   "cell_type": "markdown",
   "metadata": {},
   "source": [
    "# Fetch bottom 5 observations for those who have bought Tropicana or dominics"
   ]
  },
  {
   "cell_type": "code",
   "execution_count": 20,
   "metadata": {},
   "outputs": [
    {
     "data": {
      "text/html": [
       "<div>\n",
       "<style scoped>\n",
       "    .dataframe tbody tr th:only-of-type {\n",
       "        vertical-align: middle;\n",
       "    }\n",
       "\n",
       "    .dataframe tbody tr th {\n",
       "        vertical-align: top;\n",
       "    }\n",
       "\n",
       "    .dataframe thead th {\n",
       "        text-align: right;\n",
       "    }\n",
       "</style>\n",
       "<table border=\"1\" class=\"dataframe\">\n",
       "  <thead>\n",
       "    <tr style=\"text-align: right;\">\n",
       "      <th></th>\n",
       "      <th>store</th>\n",
       "      <th>brand</th>\n",
       "      <th>week</th>\n",
       "      <th>logmove</th>\n",
       "      <th>feat</th>\n",
       "      <th>price</th>\n",
       "      <th>AGE60</th>\n",
       "      <th>EDUC</th>\n",
       "      <th>ETHNIC</th>\n",
       "      <th>INCOME</th>\n",
       "      <th>HHLARGE</th>\n",
       "      <th>WORKWOM</th>\n",
       "      <th>HVAL150</th>\n",
       "      <th>SSTRDIST</th>\n",
       "      <th>SSTRVOL</th>\n",
       "      <th>CPDIST5</th>\n",
       "      <th>CPWVOL5</th>\n",
       "    </tr>\n",
       "  </thead>\n",
       "  <tbody>\n",
       "    <tr>\n",
       "      <th>0</th>\n",
       "      <td>2</td>\n",
       "      <td>tropicana</td>\n",
       "      <td>40</td>\n",
       "      <td>9.018695</td>\n",
       "      <td>0</td>\n",
       "      <td>3.87</td>\n",
       "      <td>0.232865</td>\n",
       "      <td>0.248935</td>\n",
       "      <td>0.11428</td>\n",
       "      <td>10.553205</td>\n",
       "      <td>0.103953</td>\n",
       "      <td>0.303585</td>\n",
       "      <td>0.463887</td>\n",
       "      <td>2.110122</td>\n",
       "      <td>1.142857</td>\n",
       "      <td>1.92728</td>\n",
       "      <td>0.376927</td>\n",
       "    </tr>\n",
       "    <tr>\n",
       "      <th>1</th>\n",
       "      <td>2</td>\n",
       "      <td>tropicana</td>\n",
       "      <td>46</td>\n",
       "      <td>8.723231</td>\n",
       "      <td>0</td>\n",
       "      <td>3.87</td>\n",
       "      <td>0.232865</td>\n",
       "      <td>0.248935</td>\n",
       "      <td>0.11428</td>\n",
       "      <td>10.553205</td>\n",
       "      <td>0.103953</td>\n",
       "      <td>0.303585</td>\n",
       "      <td>0.463887</td>\n",
       "      <td>2.110122</td>\n",
       "      <td>1.142857</td>\n",
       "      <td>1.92728</td>\n",
       "      <td>0.376927</td>\n",
       "    </tr>\n",
       "    <tr>\n",
       "      <th>2</th>\n",
       "      <td>2</td>\n",
       "      <td>tropicana</td>\n",
       "      <td>47</td>\n",
       "      <td>8.253228</td>\n",
       "      <td>0</td>\n",
       "      <td>3.87</td>\n",
       "      <td>0.232865</td>\n",
       "      <td>0.248935</td>\n",
       "      <td>0.11428</td>\n",
       "      <td>10.553205</td>\n",
       "      <td>0.103953</td>\n",
       "      <td>0.303585</td>\n",
       "      <td>0.463887</td>\n",
       "      <td>2.110122</td>\n",
       "      <td>1.142857</td>\n",
       "      <td>1.92728</td>\n",
       "      <td>0.376927</td>\n",
       "    </tr>\n",
       "    <tr>\n",
       "      <th>3</th>\n",
       "      <td>2</td>\n",
       "      <td>tropicana</td>\n",
       "      <td>48</td>\n",
       "      <td>8.987197</td>\n",
       "      <td>0</td>\n",
       "      <td>3.87</td>\n",
       "      <td>0.232865</td>\n",
       "      <td>0.248935</td>\n",
       "      <td>0.11428</td>\n",
       "      <td>10.553205</td>\n",
       "      <td>0.103953</td>\n",
       "      <td>0.303585</td>\n",
       "      <td>0.463887</td>\n",
       "      <td>2.110122</td>\n",
       "      <td>1.142857</td>\n",
       "      <td>1.92728</td>\n",
       "      <td>0.376927</td>\n",
       "    </tr>\n",
       "    <tr>\n",
       "      <th>4</th>\n",
       "      <td>2</td>\n",
       "      <td>tropicana</td>\n",
       "      <td>50</td>\n",
       "      <td>9.093357</td>\n",
       "      <td>0</td>\n",
       "      <td>3.87</td>\n",
       "      <td>0.232865</td>\n",
       "      <td>0.248935</td>\n",
       "      <td>0.11428</td>\n",
       "      <td>10.553205</td>\n",
       "      <td>0.103953</td>\n",
       "      <td>0.303585</td>\n",
       "      <td>0.463887</td>\n",
       "      <td>2.110122</td>\n",
       "      <td>1.142857</td>\n",
       "      <td>1.92728</td>\n",
       "      <td>0.376927</td>\n",
       "    </tr>\n",
       "  </tbody>\n",
       "</table>\n",
       "</div>"
      ],
      "text/plain": [
       "   store      brand  week   logmove  feat  price     AGE60      EDUC   ETHNIC  \\\n",
       "0      2  tropicana    40  9.018695     0   3.87  0.232865  0.248935  0.11428   \n",
       "1      2  tropicana    46  8.723231     0   3.87  0.232865  0.248935  0.11428   \n",
       "2      2  tropicana    47  8.253228     0   3.87  0.232865  0.248935  0.11428   \n",
       "3      2  tropicana    48  8.987197     0   3.87  0.232865  0.248935  0.11428   \n",
       "4      2  tropicana    50  9.093357     0   3.87  0.232865  0.248935  0.11428   \n",
       "\n",
       "      INCOME   HHLARGE   WORKWOM   HVAL150  SSTRDIST   SSTRVOL  CPDIST5  \\\n",
       "0  10.553205  0.103953  0.303585  0.463887  2.110122  1.142857  1.92728   \n",
       "1  10.553205  0.103953  0.303585  0.463887  2.110122  1.142857  1.92728   \n",
       "2  10.553205  0.103953  0.303585  0.463887  2.110122  1.142857  1.92728   \n",
       "3  10.553205  0.103953  0.303585  0.463887  2.110122  1.142857  1.92728   \n",
       "4  10.553205  0.103953  0.303585  0.463887  2.110122  1.142857  1.92728   \n",
       "\n",
       "    CPWVOL5  \n",
       "0  0.376927  \n",
       "1  0.376927  \n",
       "2  0.376927  \n",
       "3  0.376927  \n",
       "4  0.376927  "
      ]
     },
     "execution_count": 20,
     "metadata": {},
     "output_type": "execute_result"
    }
   ],
   "source": [
    "oj_data[(oj_data.brand == (\"dominicks\")) | (oj_data.brand == (\"tropicana\"))].head()"
   ]
  },
  {
   "cell_type": "markdown",
   "metadata": {},
   "source": [
    "# Fetch the income, brand, price observations with Tropicana brand without feature advertisement"
   ]
  },
  {
   "cell_type": "code",
   "execution_count": 21,
   "metadata": {},
   "outputs": [
    {
     "data": {
      "text/html": [
       "<div>\n",
       "<style scoped>\n",
       "    .dataframe tbody tr th:only-of-type {\n",
       "        vertical-align: middle;\n",
       "    }\n",
       "\n",
       "    .dataframe tbody tr th {\n",
       "        vertical-align: top;\n",
       "    }\n",
       "\n",
       "    .dataframe thead th {\n",
       "        text-align: right;\n",
       "    }\n",
       "</style>\n",
       "<table border=\"1\" class=\"dataframe\">\n",
       "  <thead>\n",
       "    <tr style=\"text-align: right;\">\n",
       "      <th></th>\n",
       "      <th>store</th>\n",
       "      <th>brand</th>\n",
       "      <th>week</th>\n",
       "      <th>logmove</th>\n",
       "      <th>feat</th>\n",
       "      <th>price</th>\n",
       "      <th>AGE60</th>\n",
       "      <th>EDUC</th>\n",
       "      <th>ETHNIC</th>\n",
       "      <th>INCOME</th>\n",
       "      <th>HHLARGE</th>\n",
       "      <th>WORKWOM</th>\n",
       "      <th>HVAL150</th>\n",
       "      <th>SSTRDIST</th>\n",
       "      <th>SSTRVOL</th>\n",
       "      <th>CPDIST5</th>\n",
       "      <th>CPWVOL5</th>\n",
       "    </tr>\n",
       "  </thead>\n",
       "  <tbody>\n",
       "    <tr>\n",
       "      <th>0</th>\n",
       "      <td>2</td>\n",
       "      <td>tropicana</td>\n",
       "      <td>40</td>\n",
       "      <td>9.018695</td>\n",
       "      <td>0</td>\n",
       "      <td>3.87</td>\n",
       "      <td>0.232865</td>\n",
       "      <td>0.248935</td>\n",
       "      <td>0.11428</td>\n",
       "      <td>10.553205</td>\n",
       "      <td>0.103953</td>\n",
       "      <td>0.303585</td>\n",
       "      <td>0.463887</td>\n",
       "      <td>2.110122</td>\n",
       "      <td>1.142857</td>\n",
       "      <td>1.92728</td>\n",
       "      <td>0.376927</td>\n",
       "    </tr>\n",
       "    <tr>\n",
       "      <th>1</th>\n",
       "      <td>2</td>\n",
       "      <td>tropicana</td>\n",
       "      <td>46</td>\n",
       "      <td>8.723231</td>\n",
       "      <td>0</td>\n",
       "      <td>3.87</td>\n",
       "      <td>0.232865</td>\n",
       "      <td>0.248935</td>\n",
       "      <td>0.11428</td>\n",
       "      <td>10.553205</td>\n",
       "      <td>0.103953</td>\n",
       "      <td>0.303585</td>\n",
       "      <td>0.463887</td>\n",
       "      <td>2.110122</td>\n",
       "      <td>1.142857</td>\n",
       "      <td>1.92728</td>\n",
       "      <td>0.376927</td>\n",
       "    </tr>\n",
       "    <tr>\n",
       "      <th>2</th>\n",
       "      <td>2</td>\n",
       "      <td>tropicana</td>\n",
       "      <td>47</td>\n",
       "      <td>8.253228</td>\n",
       "      <td>0</td>\n",
       "      <td>3.87</td>\n",
       "      <td>0.232865</td>\n",
       "      <td>0.248935</td>\n",
       "      <td>0.11428</td>\n",
       "      <td>10.553205</td>\n",
       "      <td>0.103953</td>\n",
       "      <td>0.303585</td>\n",
       "      <td>0.463887</td>\n",
       "      <td>2.110122</td>\n",
       "      <td>1.142857</td>\n",
       "      <td>1.92728</td>\n",
       "      <td>0.376927</td>\n",
       "    </tr>\n",
       "    <tr>\n",
       "      <th>3</th>\n",
       "      <td>2</td>\n",
       "      <td>tropicana</td>\n",
       "      <td>48</td>\n",
       "      <td>8.987197</td>\n",
       "      <td>0</td>\n",
       "      <td>3.87</td>\n",
       "      <td>0.232865</td>\n",
       "      <td>0.248935</td>\n",
       "      <td>0.11428</td>\n",
       "      <td>10.553205</td>\n",
       "      <td>0.103953</td>\n",
       "      <td>0.303585</td>\n",
       "      <td>0.463887</td>\n",
       "      <td>2.110122</td>\n",
       "      <td>1.142857</td>\n",
       "      <td>1.92728</td>\n",
       "      <td>0.376927</td>\n",
       "    </tr>\n",
       "    <tr>\n",
       "      <th>4</th>\n",
       "      <td>2</td>\n",
       "      <td>tropicana</td>\n",
       "      <td>50</td>\n",
       "      <td>9.093357</td>\n",
       "      <td>0</td>\n",
       "      <td>3.87</td>\n",
       "      <td>0.232865</td>\n",
       "      <td>0.248935</td>\n",
       "      <td>0.11428</td>\n",
       "      <td>10.553205</td>\n",
       "      <td>0.103953</td>\n",
       "      <td>0.303585</td>\n",
       "      <td>0.463887</td>\n",
       "      <td>2.110122</td>\n",
       "      <td>1.142857</td>\n",
       "      <td>1.92728</td>\n",
       "      <td>0.376927</td>\n",
       "    </tr>\n",
       "  </tbody>\n",
       "</table>\n",
       "</div>"
      ],
      "text/plain": [
       "   store      brand  week   logmove  feat  price     AGE60      EDUC   ETHNIC  \\\n",
       "0      2  tropicana    40  9.018695     0   3.87  0.232865  0.248935  0.11428   \n",
       "1      2  tropicana    46  8.723231     0   3.87  0.232865  0.248935  0.11428   \n",
       "2      2  tropicana    47  8.253228     0   3.87  0.232865  0.248935  0.11428   \n",
       "3      2  tropicana    48  8.987197     0   3.87  0.232865  0.248935  0.11428   \n",
       "4      2  tropicana    50  9.093357     0   3.87  0.232865  0.248935  0.11428   \n",
       "\n",
       "      INCOME   HHLARGE   WORKWOM   HVAL150  SSTRDIST   SSTRVOL  CPDIST5  \\\n",
       "0  10.553205  0.103953  0.303585  0.463887  2.110122  1.142857  1.92728   \n",
       "1  10.553205  0.103953  0.303585  0.463887  2.110122  1.142857  1.92728   \n",
       "2  10.553205  0.103953  0.303585  0.463887  2.110122  1.142857  1.92728   \n",
       "3  10.553205  0.103953  0.303585  0.463887  2.110122  1.142857  1.92728   \n",
       "4  10.553205  0.103953  0.303585  0.463887  2.110122  1.142857  1.92728   \n",
       "\n",
       "    CPWVOL5  \n",
       "0  0.376927  \n",
       "1  0.376927  \n",
       "2  0.376927  \n",
       "3  0.376927  \n",
       "4  0.376927  "
      ]
     },
     "execution_count": 21,
     "metadata": {},
     "output_type": "execute_result"
    }
   ],
   "source": [
    "oj_data[(oj_data.brand == 'tropicana')].head()"
   ]
  },
  {
   "cell_type": "markdown",
   "metadata": {},
   "source": [
    "# Add a new column in the dataset: logInc which is the logarithm of the income"
   ]
  },
  {
   "cell_type": "code",
   "execution_count": 25,
   "metadata": {},
   "outputs": [
    {
     "data": {
      "text/plain": [
       "0    2.35643\n",
       "1    2.35643\n",
       "2    2.35643\n",
       "3    2.35643\n",
       "4    2.35643\n",
       "Name: logInc, dtype: float64"
      ]
     },
     "execution_count": 25,
     "metadata": {},
     "output_type": "execute_result"
    }
   ],
   "source": [
    "oj_data['logInc'] = np.log(oj_data.INCOME)\n",
    "oj_data.logInc.head()"
   ]
  },
  {
   "cell_type": "markdown",
   "metadata": {},
   "source": [
    "# Sort the Data in the increasing order of the week"
   ]
  },
  {
   "cell_type": "code",
   "execution_count": 26,
   "metadata": {},
   "outputs": [
    {
     "name": "stdout",
     "output_type": "stream",
     "text": [
      "       store        brand  week   logmove  feat  price     AGE60      EDUC  \\\n",
      "0          2    tropicana    40  9.018695     0   3.87  0.232865  0.248935   \n",
      "8141      59  minute.maid    40  7.655391     0   2.62  0.110819  0.233036   \n",
      "8025      59    tropicana    40  8.489616     0   3.19  0.110819  0.233036   \n",
      "26035    124  minute.maid    40  8.269757     0   3.17  0.119626  0.261876   \n",
      "7907      56    dominicks    40  8.565602     1   1.59  0.192889  0.237551   \n",
      "7789      56  minute.maid    40  7.560080     0   2.99  0.192889  0.237551   \n",
      "7671      56    tropicana    40  8.723231     0   3.66  0.192889  0.237551   \n",
      "26156    124    dominicks    40  7.624619     1   1.59  0.119626  0.261876   \n",
      "7550      54    dominicks    40  7.592870     1   1.59  0.090222  0.421126   \n",
      "7429      54  minute.maid    40  8.302018     0   2.99  0.090222  0.421126   \n",
      "\n",
      "         ETHNIC     INCOME   HHLARGE   WORKWOM   HVAL150  SSTRDIST   SSTRVOL  \\\n",
      "0      0.114280  10.553205  0.103953  0.303585  0.463887  2.110122  1.142857   \n",
      "8141   0.024247  10.715040  0.140676  0.390696  0.292652  0.217275  1.000000   \n",
      "8025   0.024247  10.715040  0.140676  0.390696  0.292652  0.217275  1.000000   \n",
      "26035  0.572356  10.258957  0.124950  0.348519  0.416316  6.328747  0.727273   \n",
      "7907   0.041356  10.831825  0.105928  0.362168  0.578125  4.865721  0.533333   \n",
      "7789   0.041356  10.831825  0.105928  0.362168  0.578125  4.865721  0.533333   \n",
      "7671   0.041356  10.831825  0.105928  0.362168  0.578125  4.865721  0.533333   \n",
      "26156  0.572356  10.258957  0.124950  0.348519  0.416316  6.328747  0.727273   \n",
      "7550   0.046641  10.910898  0.103522  0.436719  0.646023  4.899564  1.333333   \n",
      "7429   0.046641  10.910898  0.103522  0.436719  0.646023  4.899564  1.333333   \n",
      "\n",
      "        CPDIST5   CPWVOL5    logInc  \n",
      "0      1.927280  0.376927  2.356430  \n",
      "8141   3.331154  0.395539  2.371648  \n",
      "8025   3.331154  0.395539  2.371648  \n",
      "26035  1.793796  0.202169  2.328151  \n",
      "7907   2.998578  0.496127  2.382489  \n",
      "7789   2.998578  0.496127  2.382489  \n",
      "7671   2.998578  0.496127  2.382489  \n",
      "26156  1.793796  0.202169  2.328151  \n",
      "7550   1.963412  0.645830  2.389762  \n",
      "7429   1.963412  0.645830  2.389762  \n"
     ]
    }
   ],
   "source": [
    "print(oj_data.sort_values(by='week').head(10))"
   ]
  },
  {
   "cell_type": "markdown",
   "metadata": {},
   "source": [
    "# Sort the data in the decreasing order of Income"
   ]
  },
  {
   "cell_type": "code",
   "execution_count": 27,
   "metadata": {},
   "outputs": [
    {
     "name": "stdout",
     "output_type": "stream",
     "text": [
      "       store      brand  week    logmove  feat  price     AGE60      EDUC  \\\n",
      "28946    137  dominicks   160   8.859363     0   1.75  0.209602  0.528362   \n",
      "28945    137  dominicks   159  10.927376     0   1.49  0.209602  0.528362   \n",
      "28944    137  dominicks   158   9.505991     0   1.59  0.209602  0.528362   \n",
      "28943    137  dominicks   157   8.502689     0   1.94  0.209602  0.528362   \n",
      "28942    137  dominicks   156   7.987524     0   2.00  0.209602  0.528362   \n",
      "28941    137  dominicks   155   9.078864     0   1.31  0.209602  0.528362   \n",
      "28940    137  dominicks   154  10.222668     0   1.16  0.209602  0.528362   \n",
      "28939    137  dominicks   153   8.317766     0   2.01  0.209602  0.528362   \n",
      "28938    137  dominicks   152   9.447150     1   1.99  0.209602  0.528362   \n",
      "28937    137  dominicks   151  10.943340     1   1.49  0.209602  0.528362   \n",
      "\n",
      "        ETHNIC    INCOME   HHLARGE   WORKWOM   HVAL150  SSTRDIST   SSTRVOL  \\\n",
      "28946  0.11325  10.96649  0.092996  0.330293  0.860739  6.026484  0.705882   \n",
      "28945  0.11325  10.96649  0.092996  0.330293  0.860739  6.026484  0.705882   \n",
      "28944  0.11325  10.96649  0.092996  0.330293  0.860739  6.026484  0.705882   \n",
      "28943  0.11325  10.96649  0.092996  0.330293  0.860739  6.026484  0.705882   \n",
      "28942  0.11325  10.96649  0.092996  0.330293  0.860739  6.026484  0.705882   \n",
      "28941  0.11325  10.96649  0.092996  0.330293  0.860739  6.026484  0.705882   \n",
      "28940  0.11325  10.96649  0.092996  0.330293  0.860739  6.026484  0.705882   \n",
      "28939  0.11325  10.96649  0.092996  0.330293  0.860739  6.026484  0.705882   \n",
      "28938  0.11325  10.96649  0.092996  0.330293  0.860739  6.026484  0.705882   \n",
      "28937  0.11325  10.96649  0.092996  0.330293  0.860739  6.026484  0.705882   \n",
      "\n",
      "       CPDIST5   CPWVOL5    logInc  \n",
      "28946  0.77253  0.333761  2.394844  \n",
      "28945  0.77253  0.333761  2.394844  \n",
      "28944  0.77253  0.333761  2.394844  \n",
      "28943  0.77253  0.333761  2.394844  \n",
      "28942  0.77253  0.333761  2.394844  \n",
      "28941  0.77253  0.333761  2.394844  \n",
      "28940  0.77253  0.333761  2.394844  \n",
      "28939  0.77253  0.333761  2.394844  \n",
      "28938  0.77253  0.333761  2.394844  \n",
      "28937  0.77253  0.333761  2.394844  \n"
     ]
    }
   ],
   "source": [
    "print(oj_data.sort_values(by='INCOME').sort_index(ascending = False).head(10))\n"
   ]
  },
  {
   "cell_type": "markdown",
   "metadata": {},
   "source": [
    "# Find the mean of the juice price for each brand"
   ]
  },
  {
   "cell_type": "code",
   "execution_count": 28,
   "metadata": {},
   "outputs": [
    {
     "data": {
      "text/html": [
       "<div>\n",
       "<style scoped>\n",
       "    .dataframe tbody tr th:only-of-type {\n",
       "        vertical-align: middle;\n",
       "    }\n",
       "\n",
       "    .dataframe tbody tr th {\n",
       "        vertical-align: top;\n",
       "    }\n",
       "\n",
       "    .dataframe thead tr th {\n",
       "        text-align: left;\n",
       "    }\n",
       "\n",
       "    .dataframe thead tr:last-of-type th {\n",
       "        text-align: right;\n",
       "    }\n",
       "</style>\n",
       "<table border=\"1\" class=\"dataframe\">\n",
       "  <thead>\n",
       "    <tr>\n",
       "      <th></th>\n",
       "      <th>price</th>\n",
       "    </tr>\n",
       "    <tr>\n",
       "      <th></th>\n",
       "      <th>mean</th>\n",
       "    </tr>\n",
       "    <tr>\n",
       "      <th>brand</th>\n",
       "      <th></th>\n",
       "    </tr>\n",
       "  </thead>\n",
       "  <tbody>\n",
       "    <tr>\n",
       "      <th>dominicks</th>\n",
       "      <td>1.735809</td>\n",
       "    </tr>\n",
       "    <tr>\n",
       "      <th>minute.maid</th>\n",
       "      <td>2.241162</td>\n",
       "    </tr>\n",
       "    <tr>\n",
       "      <th>tropicana</th>\n",
       "      <td>2.870493</td>\n",
       "    </tr>\n",
       "  </tbody>\n",
       "</table>\n",
       "</div>"
      ],
      "text/plain": [
       "                price\n",
       "                 mean\n",
       "brand                \n",
       "dominicks    1.735809\n",
       "minute.maid  2.241162\n",
       "tropicana    2.870493"
      ]
     },
     "execution_count": 28,
     "metadata": {},
     "output_type": "execute_result"
    }
   ],
   "source": [
    "#oj_data.brand[oj_data['price']].mean()\n",
    "oj_data.groupby('brand').agg({'price':['mean']})"
   ]
  },
  {
   "cell_type": "markdown",
   "metadata": {},
   "source": [
    "# Find the average income for each brand and at each store"
   ]
  },
  {
   "cell_type": "code",
   "execution_count": 31,
   "metadata": {},
   "outputs": [
    {
     "data": {
      "text/html": [
       "<div>\n",
       "<style scoped>\n",
       "    .dataframe tbody tr th:only-of-type {\n",
       "        vertical-align: middle;\n",
       "    }\n",
       "\n",
       "    .dataframe tbody tr th {\n",
       "        vertical-align: top;\n",
       "    }\n",
       "\n",
       "    .dataframe thead tr th {\n",
       "        text-align: left;\n",
       "    }\n",
       "\n",
       "    .dataframe thead tr:last-of-type th {\n",
       "        text-align: right;\n",
       "    }\n",
       "</style>\n",
       "<table border=\"1\" class=\"dataframe\">\n",
       "  <thead>\n",
       "    <tr>\n",
       "      <th></th>\n",
       "      <th></th>\n",
       "      <th>INCOME</th>\n",
       "    </tr>\n",
       "    <tr>\n",
       "      <th></th>\n",
       "      <th></th>\n",
       "      <th>mean</th>\n",
       "    </tr>\n",
       "    <tr>\n",
       "      <th>store</th>\n",
       "      <th>brand</th>\n",
       "      <th></th>\n",
       "    </tr>\n",
       "  </thead>\n",
       "  <tbody>\n",
       "    <tr>\n",
       "      <th rowspan=\"3\" valign=\"top\">2</th>\n",
       "      <th>dominicks</th>\n",
       "      <td>10.553205</td>\n",
       "    </tr>\n",
       "    <tr>\n",
       "      <th>minute.maid</th>\n",
       "      <td>10.553205</td>\n",
       "    </tr>\n",
       "    <tr>\n",
       "      <th>tropicana</th>\n",
       "      <td>10.553205</td>\n",
       "    </tr>\n",
       "    <tr>\n",
       "      <th rowspan=\"3\" valign=\"top\">5</th>\n",
       "      <th>dominicks</th>\n",
       "      <td>10.922371</td>\n",
       "    </tr>\n",
       "    <tr>\n",
       "      <th>minute.maid</th>\n",
       "      <td>10.922371</td>\n",
       "    </tr>\n",
       "    <tr>\n",
       "      <th>tropicana</th>\n",
       "      <td>10.922371</td>\n",
       "    </tr>\n",
       "    <tr>\n",
       "      <th rowspan=\"3\" valign=\"top\">8</th>\n",
       "      <th>dominicks</th>\n",
       "      <td>10.597010</td>\n",
       "    </tr>\n",
       "    <tr>\n",
       "      <th>minute.maid</th>\n",
       "      <td>10.597010</td>\n",
       "    </tr>\n",
       "    <tr>\n",
       "      <th>tropicana</th>\n",
       "      <td>10.597010</td>\n",
       "    </tr>\n",
       "    <tr>\n",
       "      <th>9</th>\n",
       "      <th>dominicks</th>\n",
       "      <td>10.787152</td>\n",
       "    </tr>\n",
       "  </tbody>\n",
       "</table>\n",
       "</div>"
      ],
      "text/plain": [
       "                      INCOME\n",
       "                        mean\n",
       "store brand                 \n",
       "2     dominicks    10.553205\n",
       "      minute.maid  10.553205\n",
       "      tropicana    10.553205\n",
       "5     dominicks    10.922371\n",
       "      minute.maid  10.922371\n",
       "      tropicana    10.922371\n",
       "8     dominicks    10.597010\n",
       "      minute.maid  10.597010\n",
       "      tropicana    10.597010\n",
       "9     dominicks    10.787152"
      ]
     },
     "execution_count": 31,
     "metadata": {},
     "output_type": "execute_result"
    }
   ],
   "source": [
    "oj_data.groupby([\"store\",\"brand\"]).agg({'INCOME':['mean']}).head(10)"
   ]
  },
  {
   "cell_type": "markdown",
   "metadata": {},
   "source": [
    "# Find:\n"
   ]
  },
  {
   "cell_type": "code",
   "execution_count": 32,
   "metadata": {},
   "outputs": [
    {
     "data": {
      "text/plain": [
       "10.616734638000503"
      ]
     },
     "execution_count": 32,
     "metadata": {},
     "output_type": "execute_result"
    }
   ],
   "source": [
    "# a. Mean of the INCOME\n",
    "\n",
    "oj_data.INCOME.mean()"
   ]
  },
  {
   "cell_type": "code",
   "execution_count": 33,
   "metadata": {},
   "outputs": [
    {
     "data": {
      "text/plain": [
       "0.28231362150251377"
      ]
     },
     "execution_count": 33,
     "metadata": {},
     "output_type": "execute_result"
    }
   ],
   "source": [
    "# std deviation of INCOME\n",
    "oj_data.INCOME.std()"
   ]
  },
  {
   "cell_type": "code",
   "execution_count": 34,
   "metadata": {},
   "outputs": [
    {
     "data": {
      "text/plain": [
       "10.759452382031103"
      ]
     },
     "execution_count": 34,
     "metadata": {},
     "output_type": "execute_result"
    }
   ],
   "source": [
    "# b.For income greater than or equal to 10.5, find the mean income\n",
    "oj_data.INCOME[oj_data.INCOME >= 10.5].mean()"
   ]
  },
  {
   "cell_type": "code",
   "execution_count": 36,
   "metadata": {},
   "outputs": [
    {
     "data": {
      "text/html": [
       "<div>\n",
       "<style scoped>\n",
       "    .dataframe tbody tr th:only-of-type {\n",
       "        vertical-align: middle;\n",
       "    }\n",
       "\n",
       "    .dataframe tbody tr th {\n",
       "        vertical-align: top;\n",
       "    }\n",
       "\n",
       "    .dataframe thead th {\n",
       "        text-align: right;\n",
       "    }\n",
       "</style>\n",
       "<table border=\"1\" class=\"dataframe\">\n",
       "  <thead>\n",
       "    <tr style=\"text-align: right;\">\n",
       "      <th></th>\n",
       "      <th>mean</th>\n",
       "      <th>std</th>\n",
       "      <th>median</th>\n",
       "    </tr>\n",
       "    <tr>\n",
       "      <th>brand</th>\n",
       "      <th></th>\n",
       "      <th></th>\n",
       "      <th></th>\n",
       "    </tr>\n",
       "  </thead>\n",
       "  <tbody>\n",
       "    <tr>\n",
       "      <th>dominicks</th>\n",
       "      <td>2.348104</td>\n",
       "      <td>0.038822</td>\n",
       "      <td>2.338646</td>\n",
       "    </tr>\n",
       "    <tr>\n",
       "      <th>minute.maid</th>\n",
       "      <td>2.360556</td>\n",
       "      <td>0.028522</td>\n",
       "      <td>2.363903</td>\n",
       "    </tr>\n",
       "    <tr>\n",
       "      <th>tropicana</th>\n",
       "      <td>2.361968</td>\n",
       "      <td>0.026782</td>\n",
       "      <td>2.364181</td>\n",
       "    </tr>\n",
       "  </tbody>\n",
       "</table>\n",
       "</div>"
      ],
      "text/plain": [
       "                 mean       std    median\n",
       "brand                                    \n",
       "dominicks    2.348104  0.038822  2.338646\n",
       "minute.maid  2.360556  0.028522  2.363903\n",
       "tropicana    2.361968  0.026782  2.364181"
      ]
     },
     "execution_count": 36,
     "metadata": {},
     "output_type": "execute_result"
    }
   ],
   "source": [
    "# c.For each brand having price >= 2.5 find the mean, median, sd of the log of income\n",
    "oj_data[oj_data.price >= 2.5].groupby(\"brand\")[\"logInc\"].agg(['mean','std',\"median\"])"
   ]
  },
  {
   "cell_type": "code",
   "execution_count": 37,
   "metadata": {},
   "outputs": [
    {
     "data": {
      "text/html": [
       "<div>\n",
       "<style scoped>\n",
       "    .dataframe tbody tr th:only-of-type {\n",
       "        vertical-align: middle;\n",
       "    }\n",
       "\n",
       "    .dataframe tbody tr th {\n",
       "        vertical-align: top;\n",
       "    }\n",
       "\n",
       "    .dataframe thead th {\n",
       "        text-align: right;\n",
       "    }\n",
       "</style>\n",
       "<table border=\"1\" class=\"dataframe\">\n",
       "  <thead>\n",
       "    <tr style=\"text-align: right;\">\n",
       "      <th></th>\n",
       "      <th></th>\n",
       "      <th>store</th>\n",
       "    </tr>\n",
       "    <tr>\n",
       "      <th>brand</th>\n",
       "      <th>feat</th>\n",
       "      <th></th>\n",
       "    </tr>\n",
       "  </thead>\n",
       "  <tbody>\n",
       "    <tr>\n",
       "      <th rowspan=\"2\" valign=\"top\">dominicks</th>\n",
       "      <th>0</th>\n",
       "      <td>7169</td>\n",
       "    </tr>\n",
       "    <tr>\n",
       "      <th>1</th>\n",
       "      <td>2480</td>\n",
       "    </tr>\n",
       "    <tr>\n",
       "      <th rowspan=\"2\" valign=\"top\">minute.maid</th>\n",
       "      <th>0</th>\n",
       "      <td>6865</td>\n",
       "    </tr>\n",
       "    <tr>\n",
       "      <th>1</th>\n",
       "      <td>2784</td>\n",
       "    </tr>\n",
       "    <tr>\n",
       "      <th rowspan=\"2\" valign=\"top\">tropicana</th>\n",
       "      <th>0</th>\n",
       "      <td>8045</td>\n",
       "    </tr>\n",
       "    <tr>\n",
       "      <th>1</th>\n",
       "      <td>1604</td>\n",
       "    </tr>\n",
       "  </tbody>\n",
       "</table>\n",
       "</div>"
      ],
      "text/plain": [
       "                  store\n",
       "brand       feat       \n",
       "dominicks   0      7169\n",
       "            1      2480\n",
       "minute.maid 0      6865\n",
       "            1      2784\n",
       "tropicana   0      8045\n",
       "            1      1604"
      ]
     },
     "execution_count": 37,
     "metadata": {},
     "output_type": "execute_result"
    }
   ],
   "source": [
    "oj_data.groupby([\"brand\",\"feat\"]).agg({\"store\":np.size})\n"
   ]
  },
  {
   "cell_type": "markdown",
   "metadata": {},
   "source": [
    "# Find the Cross tabulation of brands and feature advertisement"
   ]
  },
  {
   "cell_type": "code",
   "execution_count": 38,
   "metadata": {},
   "outputs": [
    {
     "name": "stdout",
     "output_type": "stream",
     "text": [
      "feat                0         1\n",
      "brand                          \n",
      "dominicks    0.742979  0.257021\n",
      "minute.maid  0.711473  0.288527\n",
      "tropicana    0.833765  0.166235\n"
     ]
    }
   ],
   "source": [
    "print(pd.crosstab(oj_data.brand,oj_data.feat, normalize='index'))\n",
    "\n"
   ]
  }
 ],
 "metadata": {
  "kernelspec": {
   "display_name": "Python 3",
   "language": "python",
   "name": "python3"
  },
  "language_info": {
   "codemirror_mode": {
    "name": "ipython",
    "version": 3
   },
   "file_extension": ".py",
   "mimetype": "text/x-python",
   "name": "python",
   "nbconvert_exporter": "python",
   "pygments_lexer": "ipython3",
   "version": "3.6.4"
  }
 },
 "nbformat": 4,
 "nbformat_minor": 2
}
